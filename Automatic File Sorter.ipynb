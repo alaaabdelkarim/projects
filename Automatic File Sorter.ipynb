{
 "cells": [
  {
   "cell_type": "markdown",
   "id": "9957908b-da5e-4fc0-9722-2d133c56e749",
   "metadata": {},
   "source": [
    "# Automatic File Sorter in File Explorer"
   ]
  },
  {
   "cell_type": "code",
   "execution_count": 1,
   "id": "e5d46d81-7668-4d53-97c7-55fd7ba66adc",
   "metadata": {},
   "outputs": [],
   "source": [
    "import os, shutil"
   ]
  },
  {
   "cell_type": "code",
   "execution_count": 7,
   "id": "d3215117-3c09-4f17-a2fc-5d6a9186d5ec",
   "metadata": {},
   "outputs": [],
   "source": [
    "path = r\"C:/Users/RePack/Desktop/New folder/\""
   ]
  },
  {
   "cell_type": "code",
   "execution_count": 12,
   "id": "a6fcb76a-62e8-4af8-a5a8-ae950e95a0f4",
   "metadata": {},
   "outputs": [
    {
     "data": {
      "text/plain": [
       "['Alaa Abdelkarim Ahmed.pdf',\n",
       " 'boot camp project.pbix',\n",
       " 'DEBI',\n",
       " 'ds.pbix',\n",
       " 'E-Commerce project.pbix',\n",
       " 'final final.ipynb',\n",
       " 'Final.pbix',\n",
       " 'lab 6-1.pbix',\n",
       " 'MaxAB Pricing Anlayst Intern Alaa Abdelkariem.pbix',\n",
       " 'new.pbix',\n",
       " 'P-EM019923 Alaa Abdelkarim Ahmed Seif.pbix',\n",
       " 'PDF files',\n",
       " 'Power BI files',\n",
       " 'project1.pbix',\n",
       " 'Python files',\n",
       " 'Semi Final.twb',\n",
       " 'Tableau files',\n",
       " 'Untitled2 (1).ipynb',\n",
       " 'Untitled2.ipynb',\n",
       " 'Untitled20 - Copy.ipynb',\n",
       " 'Untitled20-Copy1.ipynb',\n",
       " 'Untitled20-Copy2 - Copy.ipynb',\n",
       " 'Untitled20-Copy2.ipynb',\n",
       " 'Untitled20-Copy3.ipynb',\n",
       " 'Untitled20.ipynb']"
      ]
     },
     "execution_count": 12,
     "metadata": {},
     "output_type": "execute_result"
    }
   ],
   "source": [
    "file_name = os.listdir(path)\n",
    "file_name"
   ]
  },
  {
   "cell_type": "code",
   "execution_count": 10,
   "id": "ffe7446a-a71d-4050-96ec-4e0761290de8",
   "metadata": {},
   "outputs": [
    {
     "name": "stdout",
     "output_type": "stream",
     "text": [
      "C:/Users/RePack/Desktop/New folder/Tableau files\n"
     ]
    }
   ],
   "source": [
    "folder_names = [\"Power BI files\", \"PDF files\", \"Python files\", \"Tableau files\"]\n",
    "for folder in range(0,4):\n",
    "   if not os.path.exists(path + folder_names[folder]):\n",
    "       print(path + folder_names[folder])\n",
    "       os.makedirs(path + folder_names[folder])"
   ]
  },
  {
   "cell_type": "code",
   "execution_count": 16,
   "id": "d800ffe1-d08b-4c67-950b-e1a2bbbfe778",
   "metadata": {},
   "outputs": [],
   "source": [
    "for file in file_name:\n",
    "    if \".pbix\" in file and not os.path.exists(path + \"Power BI files/\" + file):\n",
    "        shutil.move(path + file, path + \"Power BI files/\" + file)\n",
    "    elif \".ipynb\" in file and not os.path.exists(path + \"Python files/\" + file):\n",
    "        shutil.move(path + file, path + \"Python files/\" + file)\n",
    "    elif \".twb\" in file and not os.path.exists(path + \"Tableau files/\" + file):\n",
    "        shutil.move(path + file, path + \"Tableau files/\" + file)\n",
    "    elif \".pdf\" in file and not os.path.exists(path + \"PDF files/\" + file):\n",
    "        shutil.move(path + file, path + \"PDF files/\" + file)\n",
    "   \n",
    "    "
   ]
  },
  {
   "cell_type": "code",
   "execution_count": null,
   "id": "16cb1fa2-af7c-43ca-bd16-9e413020e417",
   "metadata": {},
   "outputs": [],
   "source": []
  },
  {
   "cell_type": "code",
   "execution_count": null,
   "id": "6c7d5541-a883-4057-9022-0002f0423953",
   "metadata": {},
   "outputs": [],
   "source": []
  },
  {
   "cell_type": "code",
   "execution_count": null,
   "id": "e60ecb2e-0539-4a2a-83fd-1a474c717847",
   "metadata": {},
   "outputs": [],
   "source": []
  },
  {
   "cell_type": "code",
   "execution_count": null,
   "id": "12eaea57-a9c6-42da-89c6-d7797c35c3b8",
   "metadata": {},
   "outputs": [],
   "source": []
  },
  {
   "cell_type": "code",
   "execution_count": null,
   "id": "682c473a-d73e-4846-9a1e-a51eeed0b81d",
   "metadata": {},
   "outputs": [],
   "source": []
  },
  {
   "cell_type": "code",
   "execution_count": null,
   "id": "a39e6e06-8026-4577-aef1-d70b4903e26a",
   "metadata": {},
   "outputs": [],
   "source": []
  },
  {
   "cell_type": "code",
   "execution_count": null,
   "id": "cca877ca-f77c-4d18-a131-beadd862e961",
   "metadata": {},
   "outputs": [],
   "source": []
  },
  {
   "cell_type": "code",
   "execution_count": null,
   "id": "87b0c76d-d675-4246-8fc4-af94e2177dae",
   "metadata": {},
   "outputs": [],
   "source": []
  },
  {
   "cell_type": "code",
   "execution_count": null,
   "id": "3a899aba-54b4-4d67-bb54-89818948261f",
   "metadata": {},
   "outputs": [],
   "source": []
  },
  {
   "cell_type": "code",
   "execution_count": null,
   "id": "e302ebcf-ea9c-421c-aa2e-106e90ebf40b",
   "metadata": {},
   "outputs": [],
   "source": []
  },
  {
   "cell_type": "code",
   "execution_count": null,
   "id": "dbab278a-c1d8-4417-8282-ee2926239fb7",
   "metadata": {},
   "outputs": [],
   "source": []
  }
 ],
 "metadata": {
  "kernelspec": {
   "display_name": "Python 3 (ipykernel)",
   "language": "python",
   "name": "python3"
  },
  "language_info": {
   "codemirror_mode": {
    "name": "ipython",
    "version": 3
   },
   "file_extension": ".py",
   "mimetype": "text/x-python",
   "name": "python",
   "nbconvert_exporter": "python",
   "pygments_lexer": "ipython3",
   "version": "3.11.7"
  }
 },
 "nbformat": 4,
 "nbformat_minor": 5
}
